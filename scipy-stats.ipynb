{
 "cells": [
  {
   "cell_type": "markdown",
   "id": "c6a926ae",
   "metadata": {},
   "source": [
    "# Scipy-stats library\n",
    "[Official documentation](https://docs.scipy.org/doc/scipy/reference/stats.html)\n",
    "\n",
    "***\n",
    " "
   ]
  },
  {
   "cell_type": "code",
   "execution_count": null,
   "id": "f22dbe56",
   "metadata": {},
   "outputs": [],
   "source": [
    "# Efficient numerical arrays\n",
    "import numpy as np\n",
    "\n",
    "# Plotting\n",
    "import matplotlib.pyplot as plt"
   ]
  },
  {
   "cell_type": "markdown",
   "id": "17c14d34",
   "metadata": {},
   "source": [
    "# Part 1 - Overview of the SciPy-stats library\n"
   ]
  },
  {
   "cell_type": "markdown",
   "id": "136e456f",
   "metadata": {},
   "source": [
    "# Scipy library\n"
   ]
  },
  {
   "cell_type": "markdown",
   "id": "800c0631",
   "metadata": {},
   "source": [
    "SciPy stands for Scientific Python, it is a free open-source Python library used for scientific and technical computing as well as solving mathematical and technical problems. It is built on NumPy and allows manipulation and visualization with a wide range of high level commands. SciPy contains 16 different modules used for optimization, linear algebra, integration,interpolation, special functions, FFT, signal and image processing and other tasks common in science and engineering. \n",
    "\n",
    "SciPy library is currently distributed under the BSD license, and its development is sponsored and supported by an open community of developers. [1](#section)"
   ]
  },
  {
   "cell_type": "markdown",
   "id": "8b476aff",
   "metadata": {},
   "source": [
    "## Scipy-stats\n"
   ]
  },
  {
   "cell_type": "markdown",
   "id": "8a0f6b66",
   "metadata": {},
   "source": [
    "SciPy.stats is a sub-package module of Scipy library. It contains a large number of probability distributions, summary and frequency statistics, correlation functions and statistical tests, masked statistics, kernel density estimation, quasi-Monte Carlo functionality, and more."
   ]
  },
  {
   "cell_type": "markdown",
   "id": "c812e5c2",
   "metadata": {},
   "source": [
    "## ANOVA test"
   ]
  },
  {
   "cell_type": "markdown",
   "id": "255c7121",
   "metadata": {},
   "source": [
    "### What is ANOVA?"
   ]
  },
  {
   "cell_type": "markdown",
   "id": "d2e5d3f0",
   "metadata": {},
   "source": [
    "ANOVA stands for Analysis of Variance. It’s a statistical test that was developed by Ronald Fisher in 1918 and has been in use ever since. ANOVA tells you if there are any statistical differences between the means of three or more independent groups.\n",
    "\n",
    "One-way ANOVA is the most basic form. There are other variations that can be used in different situations, including:\n",
    "\n",
    "- Two-way ANOVA\n",
    "- Factorial ANOVA\n",
    "- Welch’s F-test ANOVA\n",
    "- Ranked ANOVA\n",
    "- Games-Howell pairwise test"
   ]
  },
  {
   "cell_type": "markdown",
   "id": "aea9f2dc",
   "metadata": {},
   "source": [
    "### How does ANOVA work?"
   ]
  },
  {
   "cell_type": "markdown",
   "id": "d09f7891",
   "metadata": {},
   "source": [
    "Like the t-test, ANOVA helps you find out whether the differences between groups of data are statistically significant. It works by analysing the levels of variance within the groups through samples taken from each of them.\n",
    "\n",
    "If there is a lot of variance (spread of data away from the mean) within the data groups, then there is more chance that the mean of a sample selected from the data will be different due to chance.\n",
    "\n",
    "As well as looking at variance within the data groups, ANOVA takes into account sample size (the larger the sample, the less chance there will be of picking outliers for the sample by chance) and the differences between sample means (if the means of the samples are far apart, it’s more likely that the means of the whole group will be too).\n",
    "\n",
    "All these elements are combined into an F value, which can then be analysed to give a probability (p-value) of whether or not differences between your groups are statistically significant.\n",
    "\n",
    "A one-way ANOVA compares the effects of an independent variable (a factor that influences other things) on multiple dependent variables. Two-way ANOVA does the same thing, but with more than one independent variable, while a factorial ANOVA extends the number of independent variables even further."
   ]
  },
  {
   "cell_type": "markdown",
   "id": "788b7e05",
   "metadata": {},
   "source": [
    "### How can ANOVA help?"
   ]
  },
  {
   "cell_type": "markdown",
   "id": "198571dc",
   "metadata": {},
   "source": [
    "The one-way ANOVA can help you know whether or not there are significant differences between the means of your independent variables.\n",
    "\n",
    "Why is that useful?\n",
    "\n",
    "Because when you understand how each independent variable’s mean is different from the others, you can begin to understand which of them has a connection to your dependent variable (such as landing page clicks) and begin to learn what is driving that behaviour.\n",
    "\n",
    "You could also flip things around and see whether or not a single independent variable (such as temperature) affects multiple dependent variables (such as purchase rates of suncream, attendance at outdoor venues, and likelihood to hold a cook-out) and if so, which ones."
   ]
  },
  {
   "cell_type": "markdown",
   "id": "e688211b",
   "metadata": {},
   "source": [
    "### Examples of using ANOVA"
   ]
  },
  {
   "cell_type": "markdown",
   "id": "24d81db1",
   "metadata": {},
   "source": [
    "<b>Do age, sex, or income have an effect on how much someone spends in your store per month?</b>\n",
    "\n",
    "To answer this question, a factorial ANOVA can be used, since you have three independent variables and one dependent variable. You’ll need to collect data for different age groups (such as 0-20, 21-40, 41-70, 71+), different income brackets, and all relevant sexes. A two-way ANOVA can then simultaneously assess the effect on these variables on your dependent variable (spending) and determine whether they make a difference."
   ]
  },
  {
   "cell_type": "markdown",
   "id": "60331e27",
   "metadata": {},
   "source": [
    "### Understanding ANOVA assumptions"
   ]
  },
  {
   "cell_type": "markdown",
   "id": "9d3eaa12",
   "metadata": {},
   "source": [
    "Like other types of statistical tests, ANOVA compares the means of different groups and shows you if there are any statistical differences between the means. ANOVA is classified as an omnibus test statistic. This means that it can’t tell you which specific groups were statistically significantly different from each other, only that at least two of the groups were.\n",
    "\n",
    "It’s important to remember that the main ANOVA research question is whether the sample means are from different populations. There are two assumptions upon which ANOVA rests:\n",
    "\n",
    "1) Whatever the technique of data collection, the observations within each sampled population are normally distributed.\n",
    "\n",
    "2) The sampled population has a common variance of s2."
   ]
  },
  {
   "cell_type": "markdown",
   "id": "0f9ab6f6",
   "metadata": {},
   "source": [
    "### Limitations and other considerations"
   ]
  },
  {
   "cell_type": "markdown",
   "id": "87ef9e4e",
   "metadata": {},
   "source": [
    "While ANOVA will help you to analyse the difference in means between two independent variables, it won’t tell you which statistical groups were different from each other. If your test returns a significant F-statistic (the value you get when you run an ANOVA test), you may need to run an ad hoc test (like the Least Significant Difference test) to tell you exactly which groups had a difference in means. [2](#section)"
   ]
  },
  {
   "cell_type": "markdown",
   "id": "9131eee6",
   "metadata": {},
   "source": [
    "## References"
   ]
  },
  {
   "cell_type": "markdown",
   "id": "fb7f5321",
   "metadata": {},
   "source": [
    "[1. \"Scipy\" Wikipedia](https://en.wikipedia.org/wiki/SciPy \"Press to check the reference source\")\n",
    "\n",
    "[2. \"What is ANOVA (Analysis Of Variance) and what can I use it for?\"](https://www.qualtrics.com/uk/experience-management/research/anova/ \"Press to check the reference source\")"
   ]
  },
  {
   "cell_type": "code",
   "execution_count": null,
   "id": "bd53e5c4",
   "metadata": {},
   "outputs": [],
   "source": []
  }
 ],
 "metadata": {
  "kernelspec": {
   "display_name": "Python 3",
   "language": "python",
   "name": "python3"
  },
  "language_info": {
   "codemirror_mode": {
    "name": "ipython",
    "version": 3
   },
   "file_extension": ".py",
   "mimetype": "text/x-python",
   "name": "python",
   "nbconvert_exporter": "python",
   "pygments_lexer": "ipython3",
   "version": "3.8.8"
  }
 },
 "nbformat": 4,
 "nbformat_minor": 5
}
